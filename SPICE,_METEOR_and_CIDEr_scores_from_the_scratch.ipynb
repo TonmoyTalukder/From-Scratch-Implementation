{
  "nbformat": 4,
  "nbformat_minor": 0,
  "metadata": {
    "colab": {
      "provenance": [],
      "toc_visible": true,
      "authorship_tag": "ABX9TyPw7ZgpfJJr+K/8Pz/vxXRS",
      "include_colab_link": true
    },
    "kernelspec": {
      "name": "python3",
      "display_name": "Python 3"
    },
    "language_info": {
      "name": "python"
    }
  },
  "cells": [
    {
      "cell_type": "markdown",
      "metadata": {
        "id": "view-in-github",
        "colab_type": "text"
      },
      "source": [
        "<a href=\"https://colab.research.google.com/github/TonmoyTalukder/From-Scratch-Implementation/blob/main/SPICE%2C_METEOR_and_CIDEr_scores_from_the_scratch.ipynb\" target=\"_parent\"><img src=\"https://colab.research.google.com/assets/colab-badge.svg\" alt=\"Open In Colab\"/></a>"
      ]
    },
    {
      "cell_type": "markdown",
      "source": [
        "# Implementation of SPICE, METEOR and CIDEr scores from scratch.\n",
        "\n",
        "\n",
        "---\n",
        "\n"
      ],
      "metadata": {
        "id": "2i-1byIdQAJj"
      }
    },
    {
      "cell_type": "markdown",
      "source": [
        "# SPICE Score"
      ],
      "metadata": {
        "id": "OEWNTGvmBX23"
      }
    },
    {
      "cell_type": "code",
      "source": [
        "import string\n",
        "\n",
        "class SpiceScore:\n",
        "    def __init__(self):\n",
        "        pass\n",
        "    \n",
        "    def preprocess(self, sentence):\n",
        "        # \"\"\"\n",
        "        # Helper function to preprocess a sentence.\n",
        "        # \"\"\"\n",
        "        # sentence = sentence.lower()                   # convert to lowercase\n",
        "        # sentence = sentence.translate(str.maketrans('', '', string.punctuation)) # remove punctuation\n",
        "        # sentence = sentence.split()                    # split into words\n",
        "        # return ' '.join(sentence)                      # join words back into a string\n",
        "        return sentence\n",
        "    \n",
        "    def compute_word_matches(self, ref_sentence, can_sentence):\n",
        "        \"\"\"\n",
        "        Helper function to compute the number of word matches between a reference sentence and a candidate sentence.\n",
        "        \"\"\"\n",
        "        ref_sentence = set(self.preprocess(ref_sentence))\n",
        "        can_sentence = set(self.preprocess(can_sentence))\n",
        "        matches = len(ref_sentence.intersection(can_sentence))\n",
        "        return matches\n",
        "    \n",
        "    def compute_precision_recall(self, ref_counts, can_counts, matches):\n",
        "        \"\"\"\n",
        "        Helper function to compute precision and recall scores given the counts of n-grams in the reference and candidate sentences\n",
        "        and the number of matching n-grams.\n",
        "        \"\"\"\n",
        "        precision = matches / can_counts if can_counts > 0 else 0\n",
        "        recall = matches / ref_counts if ref_counts > 0 else 0\n",
        "        return precision, recall\n",
        "    \n",
        "    def compute_spice(self, ref_sentence, can_sentence):\n",
        "        \"\"\"\n",
        "        Computes the SPICE score between a reference sentence and a candidate sentence.\n",
        "        \"\"\"\n",
        "        ref_sentence = self.preprocess(ref_sentence)\n",
        "        can_sentence = self.preprocess(can_sentence)\n",
        "\n",
        "        # Compute the word matches between the reference and candidate sentences.\n",
        "        matches = self.compute_word_matches(ref_sentence, can_sentence)\n",
        "\n",
        "        # Compute the precision and recall scores for 1-gram to 4-gram matches.\n",
        "        precisions = []\n",
        "        recalls = []\n",
        "        for n in range(1, 5):\n",
        "            ref_counts = len(ref_sentence) - n + 1\n",
        "            can_counts = len(can_sentence) - n + 1\n",
        "            ngram_matches = 0\n",
        "            for i in range(len(can_sentence) - n + 1):\n",
        "                ngram = tuple(can_sentence[i:i+n])\n",
        "                ngram_matches += int(ngram in set([tuple(ref_sentence[j:j+n]) for j in range(len(ref_sentence) - n + 1)]))\n",
        "            ngram_precision, ngram_recall = self.compute_precision_recall(ref_counts, can_counts, ngram_matches)\n",
        "            precisions.append(ngram_precision)\n",
        "            recalls.append(ngram_recall)\n",
        "\n",
        "        # Compute the harmonic mean of the precision and recall scores for all n-grams.\n",
        "        avg_precision = sum(precisions) / len(precisions)\n",
        "        avg_recall = sum(recalls) / len(recalls)\n",
        "        spice_score = 2 * avg_precision * avg_recall / (avg_precision + avg_recall) if avg_precision + avg_recall > 0 else 0\n",
        "        return spice_score"
      ],
      "metadata": {
        "id": "NbEJ-c5BATYC"
      },
      "execution_count": 1,
      "outputs": []
    },
    {
      "cell_type": "code",
      "source": [
        "spice = SpiceScore()\n",
        "\n",
        "ref_sentence = \"আমি বাংলায় গান গাই\"\n",
        "can_sentence = \"আমি বাংলায় গান শুনি\"\n",
        "spice_score = spice.compute_spice(ref_sentence, can_sentence)\n",
        "print(\"SPICE score:\", spice_score)"
      ],
      "metadata": {
        "colab": {
          "base_uri": "https://localhost:8080/"
        },
        "id": "wNZOwlGWC4us",
        "outputId": "e51ee948-50ca-4d16-e0fb-a3faa96ccf04"
      },
      "execution_count": null,
      "outputs": [
        {
          "output_type": "stream",
          "name": "stdout",
          "text": [
            "SPICE score: 0.820250988684353\n"
          ]
        }
      ]
    },
    {
      "cell_type": "code",
      "source": [
        "spice = SpiceScore()\n",
        "\n",
        "ref_sentence = \"আমি বাংলায় গান গাই\"\n",
        "can_sentence = \"আমি বাংলায় গান গাই\"\n",
        "spice_score = spice.compute_spice(ref_sentence, can_sentence)\n",
        "print(\"SPICE score:\", spice_score)"
      ],
      "metadata": {
        "colab": {
          "base_uri": "https://localhost:8080/"
        },
        "id": "03EewQRkh7r3",
        "outputId": "2d5dca66-3fd6-4a93-9e1a-708eb6a5983d"
      },
      "execution_count": 2,
      "outputs": [
        {
          "output_type": "stream",
          "name": "stdout",
          "text": [
            "SPICE score: 1.0\n"
          ]
        }
      ]
    },
    {
      "cell_type": "markdown",
      "source": [
        "# METEOR Score"
      ],
      "metadata": {
        "id": "DfOfSD1DfnM4"
      }
    },
    {
      "cell_type": "code",
      "source": [
        "from collections import Counter\n",
        "\n",
        "class MeteorScore:\n",
        "    def __init__(self, alpha=0.5, beta=0.5, gamma=0.5):\n",
        "        self.alpha = alpha\n",
        "        self.beta = beta\n",
        "        self.gamma = gamma\n",
        "\n",
        "    def preprocess_sentence(self, sentence):\n",
        "        words = sentence.split()\n",
        "        return words\n",
        "\n",
        "    def ngram_count(self, sentence, n):\n",
        "        words = self.preprocess_sentence(sentence)\n",
        "        ngrams = [tuple(words[i:i+n]) for i in range(len(words)-n+1)]\n",
        "        return Counter(ngrams)\n",
        "\n",
        "    def compute_precision(self, hypothesis, reference, n):\n",
        "        hyp_counts = self.ngram_count(hypothesis, n)\n",
        "        ref_counts = self.ngram_count(reference, n)\n",
        "        overlap = sum((hyp_counts & ref_counts).values())\n",
        "        precision = overlap / sum(hyp_counts.values()) if sum(hyp_counts.values()) > 0 else 0\n",
        "        return precision\n",
        "\n",
        "    def compute_recall(self, hypothesis, reference, n):\n",
        "        hyp_counts = self.ngram_count(hypothesis, n)\n",
        "        ref_counts = self.ngram_count(reference, n)\n",
        "        overlap = sum((hyp_counts & ref_counts).values())\n",
        "        recall = overlap / sum(ref_counts.values()) if sum(ref_counts.values()) > 0 else 0\n",
        "        return recall\n",
        "\n",
        "    def meteor_score(self, hypothesis, reference):\n",
        "        precision = self.alpha * self.compute_precision(hypothesis, reference, 1) + (1-self.alpha) * self.compute_precision(hypothesis, reference, 2)\n",
        "        recall = self.beta * self.compute_recall(hypothesis, reference, 1) + (1-self.beta) * self.compute_recall(hypothesis, reference, 2)\n",
        "        fmean = (1-self.gamma) * precision + self.gamma * recall if (precision != 0 and recall != 0) else 0\n",
        "        return fmean"
      ],
      "metadata": {
        "id": "b3dvvn0BdhSz"
      },
      "execution_count": 3,
      "outputs": []
    },
    {
      "cell_type": "code",
      "source": [
        "meteor = MeteorScore(alpha=0.5, beta=0.5, gamma=0.5)\n",
        "hypothesis = \"আমি বাংলায় গান গাই\"\n",
        "reference = \"আমি বাংলায় গান শুনি\"\n",
        "score = meteor.meteor_score(hypothesis, reference)\n",
        "print(\"METEOR score:\", score)"
      ],
      "metadata": {
        "colab": {
          "base_uri": "https://localhost:8080/"
        },
        "id": "rVEFnrpwe_fm",
        "outputId": "0963342a-e3d0-490e-d5ff-66281c1c711f"
      },
      "execution_count": null,
      "outputs": [
        {
          "output_type": "stream",
          "name": "stdout",
          "text": [
            "METEOR score: 0.7083333333333333\n"
          ]
        }
      ]
    },
    {
      "cell_type": "code",
      "source": [
        "meteor = MeteorScore(alpha=0.5, beta=0.5, gamma=0.5)\n",
        "hypothesis = \"আমি বাংলায় গান গাই\"\n",
        "reference = \"আমি বাংলায় গান গাই\"\n",
        "score = meteor.meteor_score(hypothesis, reference)\n",
        "print(\"METEOR score:\", score)"
      ],
      "metadata": {
        "colab": {
          "base_uri": "https://localhost:8080/"
        },
        "id": "KL2P00uWh_uR",
        "outputId": "3be76c29-039f-47d3-c00b-9b6683b7fa9a"
      },
      "execution_count": 4,
      "outputs": [
        {
          "output_type": "stream",
          "name": "stdout",
          "text": [
            "METEOR score: 1.0\n"
          ]
        }
      ]
    },
    {
      "cell_type": "markdown",
      "source": [
        "# CIDEr Score"
      ],
      "metadata": {
        "id": "q5Q5KVoxfrSQ"
      }
    },
    {
      "cell_type": "code",
      "source": [
        "import math\n",
        "from collections import defaultdict\n",
        "\n",
        "class CiderScorer:\n",
        "    def __init__(self, alpha=1.0):\n",
        "        self.alpha = alpha\n",
        "        self.cache = defaultdict(lambda: None)\n",
        "\n",
        "    def word_frequency(self, sentence):\n",
        "        \"\"\"\n",
        "        This function takes a sentence as input and returns a dictionary of word frequencies.\n",
        "        \"\"\"\n",
        "        if self.cache[sentence] is not None:\n",
        "            return self.cache[sentence]\n",
        "\n",
        "        freq = defaultdict(int)\n",
        "        for word in sentence.split():\n",
        "            freq[word] += 1\n",
        "\n",
        "        self.cache[sentence] = freq\n",
        "        return freq\n",
        "\n",
        "    def calculate_cider_score(self, sentence1, sentence2):\n",
        "        \"\"\"\n",
        "        This function takes two sentences as input and returns their CIDEr score.\n",
        "        \"\"\"\n",
        "        # Get word frequencies for both sentences\n",
        "        freq1 = self.word_frequency(sentence1)\n",
        "        freq2 = self.word_frequency(sentence2)\n",
        "\n",
        "        # Get the set of unique words in both sentences\n",
        "        unique_words = set(freq1.keys()).union(set(freq2.keys()))\n",
        "\n",
        "        # Calculate document frequency (df) for each word\n",
        "        df = defaultdict(int)\n",
        "        for word in unique_words:\n",
        "            if word in freq1:\n",
        "                df[word] += 1\n",
        "            if word in freq2:\n",
        "                df[word] += 1\n",
        "\n",
        "        # Calculate inverse document frequency (idf) for each word\n",
        "        idf = {}\n",
        "        for word in unique_words:\n",
        "            idf[word] = math.log((2+self.alpha) / (df[word]+self.alpha)) + 1\n",
        "\n",
        "        # Calculate the numerator of the CIDEr score\n",
        "        numerator = 0\n",
        "        for word in unique_words:\n",
        "            tf1 = freq1[word]\n",
        "            tf2 = freq2[word]\n",
        "            numerator += tf1 * tf2 * idf[word]**2\n",
        "\n",
        "        # Calculate the denominator of the CIDEr score\n",
        "        denominator1 = sum(tf1 * idf[word] for word, tf1 in freq1.items())\n",
        "        denominator2 = sum(tf2 * idf[word] for word, tf2 in freq2.items())\n",
        "        denominator = denominator1 * denominator2\n",
        "\n",
        "        # Calculate the CIDEr score\n",
        "        score = numerator / denominator**(1/2)\n",
        "\n",
        "        return score"
      ],
      "metadata": {
        "id": "oMq99za2MGbH"
      },
      "execution_count": 5,
      "outputs": []
    },
    {
      "cell_type": "code",
      "source": [
        "scorer = CiderScorer(alpha=10.0)\n",
        "\n",
        "sentence1 = \"আমি বাংলায় গান গাই\"\n",
        "sentence2 = \"আমি বাংলায় গান শুনি\"\n",
        "\n",
        "score = scorer.calculate_cider_score(sentence1, sentence2)\n",
        "print(\"CIDEr score:\", score)"
      ],
      "metadata": {
        "colab": {
          "base_uri": "https://localhost:8080/"
        },
        "id": "woJHp0ZQMGYQ",
        "outputId": "744045b8-6011-4d0c-8b16-701fa50d8c32"
      },
      "execution_count": null,
      "outputs": [
        {
          "output_type": "stream",
          "name": "stdout",
          "text": [
            "CIDEr score: 0.7340327009830128\n"
          ]
        }
      ]
    },
    {
      "cell_type": "code",
      "source": [
        "scorer = CiderScorer(alpha=10.0)\n",
        "\n",
        "sentence1 = \"আমি বাংলায় গান গাই\"\n",
        "sentence2 = \"আমি বাংলায় গান গাই\"\n",
        "\n",
        "score = scorer.calculate_cider_score(sentence1, sentence2)\n",
        "print(\"CIDEr score:\", score)"
      ],
      "metadata": {
        "colab": {
          "base_uri": "https://localhost:8080/"
        },
        "id": "jlxSUl7tiE3G",
        "outputId": "59243cda-8cb9-41cc-bc45-64dc18bf416a"
      },
      "execution_count": 6,
      "outputs": [
        {
          "output_type": "stream",
          "name": "stdout",
          "text": [
            "CIDEr score: 1.0\n"
          ]
        }
      ]
    }
  ]
}